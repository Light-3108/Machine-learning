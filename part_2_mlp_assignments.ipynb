{
  "cells": [
    {
      "cell_type": "code",
      "source": [
        "\n",
        "# ********* EX - 01 *******\n",
        "# what i have to do is:\n",
        "# 1. I have to tune the hyperparameters to beat the best validation loss of 2.2 by andrej\n",
        "\n",
        "\n",
        "# **** EX-02***********\n",
        "# what i have to do is:\n",
        "# 1. answer what loss we would get if the predicted probabilities at initialization were perfectly uniform\n",
        "# 2. tuning the initialization to get a starting loss much similar to 1.\n",
        "\n",
        "# what??\n",
        "\n",
        "# ok to get uniform prediction at first does making all parameter equal do the case?\n",
        "# -> i don't think so but logits should be same for any inputs right?\n",
        "# How do i make logits same for any input? ok let's make all parameters zero.\n",
        "# yes this do the case. because logits will all be zero and logits.exp() will all be 1. and after normalization all will be 1/27\n",
        "# nice\n",
        "\n"
      ],
      "metadata": {
        "id": "R_Mucd6nAKvV"
      },
      "execution_count": null,
      "outputs": []
    },
    {
      "cell_type": "code",
      "source": [
        "# i got dev-loss of 2.1635  train loss = 2.0786in first go. let's try to improve it even more.\n",
        "# let's train again and see. I except to platue at this range. I suspect dev_loss will be more even\n",
        "# ok it didn't it decrease to 2.1371. train loss = 2.0734 ok learning rate of 0.1 is ok i think, let's train again with 0.1 learning rate only\n",
        "\n",
        "# again after 200k iterations on same hyper-parameters\n",
        "  #  train loss = 2.0560\n",
        "  #  dev loss = 2.1227\n",
        "\n",
        "#ok  again it is decreased but it seems it has platued around here so let's change the hyperparameters\n",
        "\n",
        "#first try, let's change block size form 3 to 4. why?\n",
        "# ->  i don't know, it seems for names the average length of syllable is 4.\n",
        "\n",
        "\n",
        "#what i changed\n",
        "# 1. embedding vector size = 30. why? (do we need 30 dimensions to store the information for certain char?) - i don't think so. let's make it just 15\n",
        "#    i think 15 is also too big. let's see\n",
        "\n",
        "# 2. I think hidden layers needs to be of more size. so let's make it 300. why?\n",
        "#    -->\n",
        "\n",
        "# 3. block size = 4\n",
        "# 4. do we need regularization? let's add it too.\n",
        "# 5. let's increase batch size to 64\n",
        "\n",
        "\n",
        "# ok better than previous but not good as expected\n",
        "\n",
        "# dev loss = 2.1598\n",
        "# train loss = 2.1004\n",
        "\n",
        "# let's train more and see.let's use smaller learning rate now.\n",
        "\n",
        "#dev loss = 2.14\n",
        "#train loss = 2.0647\n",
        "\n",
        "#again\n",
        "\n",
        "#dev loss = 33\n",
        "#train loss = 33\n",
        "\n",
        "#ok i clearly messed up. i don't know why\n",
        "\n",
        "# ok this was my best\n",
        "\n",
        "#dev loss = 2.14\n",
        "#train loss = 2.0647\n"
      ],
      "metadata": {
        "id": "T7OmGepCUisQ"
      },
      "execution_count": null,
      "outputs": []
    },
    {
      "cell_type": "code",
      "source": [
        "## assignment -2 ###\n",
        "# ok loss is 3.21 with equal distribution."
      ],
      "metadata": {
        "id": "OiuXKfuWUpEJ"
      },
      "execution_count": null,
      "outputs": []
    },
    {
      "cell_type": "code",
      "source": [
        "#I got 2.16 dev loss at first go"
      ],
      "metadata": {
        "id": "PHeW7aIhCCEj"
      },
      "execution_count": null,
      "outputs": []
    },
    {
      "cell_type": "code",
      "execution_count": null,
      "metadata": {
        "id": "858mG-Ip9d3M"
      },
      "outputs": [],
      "source": [
        "import torch\n",
        "import torch.nn.functional as F\n",
        "import matplotlib.pyplot as plt # for making figures\n",
        "%matplotlib inline"
      ]
    },
    {
      "cell_type": "code",
      "execution_count": null,
      "metadata": {
        "colab": {
          "base_uri": "https://localhost:8080/"
        },
        "id": "qBOsPwyi9d3N",
        "outputId": "7aad9bd9-717d-4b49-ef60-935d6427bce6"
      },
      "outputs": [
        {
          "output_type": "execute_result",
          "data": {
            "text/plain": [
              "['emma', 'olivia', 'ava', 'isabella', 'sophia', 'charlotte', 'mia', 'amelia']"
            ]
          },
          "metadata": {},
          "execution_count": 2
        }
      ],
      "source": [
        "# read in all the words\n",
        "words = open('names.txt', 'r').read().splitlines()\n",
        "words[:8]"
      ]
    },
    {
      "cell_type": "code",
      "execution_count": null,
      "metadata": {
        "colab": {
          "base_uri": "https://localhost:8080/"
        },
        "id": "m252dqZE9d3O",
        "outputId": "00619551-2c85-4902-c22f-210dff978fa1"
      },
      "outputs": [
        {
          "output_type": "execute_result",
          "data": {
            "text/plain": [
              "32033"
            ]
          },
          "metadata": {},
          "execution_count": 4
        }
      ],
      "source": [
        "len(words)"
      ]
    },
    {
      "cell_type": "code",
      "execution_count": null,
      "metadata": {
        "colab": {
          "base_uri": "https://localhost:8080/"
        },
        "id": "QMY6gQ3M9d3O",
        "outputId": "78958ec3-e0e0-4723-9a88-80476031822a"
      },
      "outputs": [
        {
          "output_type": "stream",
          "name": "stdout",
          "text": [
            "{1: 'a', 2: 'b', 3: 'c', 4: 'd', 5: 'e', 6: 'f', 7: 'g', 8: 'h', 9: 'i', 10: 'j', 11: 'k', 12: 'l', 13: 'm', 14: 'n', 15: 'o', 16: 'p', 17: 'q', 18: 'r', 19: 's', 20: 't', 21: 'u', 22: 'v', 23: 'w', 24: 'x', 25: 'y', 26: 'z', 0: '.'}\n"
          ]
        }
      ],
      "source": [
        "# build the vocabulary of characters and mappings to/from integers\n",
        "chars = sorted(list(set(''.join(words))))\n",
        "stoi = {s:i+1 for i,s in enumerate(chars)}\n",
        "stoi['.'] = 0\n",
        "itos = {i:s for s,i in stoi.items()}\n",
        "print(itos)"
      ]
    },
    {
      "cell_type": "code",
      "execution_count": null,
      "metadata": {
        "id": "HTa-I5lX9d3P"
      },
      "outputs": [],
      "source": [
        "# build the dataset\n",
        "\n",
        "block_size = 3 # context length: how many characters do we take to predict the next one?\n",
        "X, Y = [], []\n",
        "for w in words:\n",
        "\n",
        "  #print(w)\n",
        "  context = [0] * block_size\n",
        "  for ch in w + '.':\n",
        "    ix = stoi[ch]\n",
        "    X.append(context)\n",
        "    Y.append(ix)\n",
        "    #print(''.join(itos[i] for i in context), '--->', itos[ix])\n",
        "    context = context[1:] + [ix] # crop and append\n",
        "\n",
        "X = torch.tensor(X)\n",
        "Y = torch.tensor(Y)"
      ]
    },
    {
      "cell_type": "code",
      "execution_count": null,
      "metadata": {
        "colab": {
          "base_uri": "https://localhost:8080/"
        },
        "id": "9tTbEH_t9d3P",
        "outputId": "07e5e125-70b7-45b2-abed-320da30d6134"
      },
      "outputs": [
        {
          "output_type": "execute_result",
          "data": {
            "text/plain": [
              "(torch.Size([228146, 3]), torch.int64, torch.Size([228146]), torch.int64)"
            ]
          },
          "metadata": {},
          "execution_count": 6
        }
      ],
      "source": [
        "X.shape, X.dtype, Y.shape, Y.dtype"
      ]
    },
    {
      "cell_type": "code",
      "execution_count": null,
      "metadata": {
        "colab": {
          "base_uri": "https://localhost:8080/"
        },
        "id": "c-cWm4i09d3Q",
        "outputId": "a421adcb-983e-49ae-c564-47e65982f759"
      },
      "outputs": [
        {
          "output_type": "stream",
          "name": "stdout",
          "text": [
            "torch.Size([182580, 4]) torch.Size([182580])\n",
            "torch.Size([22767, 4]) torch.Size([22767])\n",
            "torch.Size([22799, 4]) torch.Size([22799])\n"
          ]
        }
      ],
      "source": [
        "# build the dataset\n",
        "block_size = 4 # context length: how many characters do we take to predict the next one?\n",
        "\n",
        "def build_dataset(words):\n",
        "  X, Y = [], []\n",
        "  for w in words:\n",
        "\n",
        "    #print(w)\n",
        "    context = [0] * block_size\n",
        "    for ch in w + '.':\n",
        "      ix = stoi[ch]\n",
        "      X.append(context)\n",
        "      Y.append(ix)\n",
        "      #print(''.join(itos[i] for i in context), '--->', itos[ix])\n",
        "      context = context[1:] + [ix] # crop and append\n",
        "\n",
        "  X = torch.tensor(X)\n",
        "  Y = torch.tensor(Y)\n",
        "  print(X.shape, Y.shape)\n",
        "  return X, Y\n",
        "\n",
        "import random\n",
        "random.seed(42)\n",
        "random.shuffle(words)\n",
        "n1 = int(0.8*len(words))\n",
        "n2 = int(0.9*len(words))\n",
        "\n",
        "Xtr, Ytr = build_dataset(words[:n1])\n",
        "Xdev, Ydev = build_dataset(words[n1:n2])\n",
        "Xte, Yte = build_dataset(words[n2:])\n"
      ]
    },
    {
      "cell_type": "code",
      "execution_count": null,
      "metadata": {
        "id": "MMEowNCT9d3R"
      },
      "outputs": [],
      "source": [
        "C = torch.randn((27, 2))"
      ]
    },
    {
      "cell_type": "code",
      "execution_count": null,
      "metadata": {
        "colab": {
          "base_uri": "https://localhost:8080/"
        },
        "id": "2i88C0l29d3R",
        "outputId": "cabfc3aa-7669-4751-de57-c21b538ce3e7"
      },
      "outputs": [
        {
          "output_type": "execute_result",
          "data": {
            "text/plain": [
              "torch.Size([228146, 3, 2])"
            ]
          },
          "metadata": {},
          "execution_count": 9
        }
      ],
      "source": [
        "emb = C[X]\n",
        "emb.shape"
      ]
    },
    {
      "cell_type": "code",
      "execution_count": null,
      "metadata": {
        "id": "5FCIg2s79d3R"
      },
      "outputs": [],
      "source": [
        "W1 = torch.randn((6, 100))\n",
        "b1 = torch.randn(100)"
      ]
    },
    {
      "cell_type": "code",
      "execution_count": null,
      "metadata": {
        "id": "fYYvy0x49d3R"
      },
      "outputs": [],
      "source": [
        "h = torch.tanh(emb.view(-1, 6) @ W1 + b1)"
      ]
    },
    {
      "cell_type": "code",
      "execution_count": null,
      "metadata": {
        "colab": {
          "base_uri": "https://localhost:8080/"
        },
        "id": "GgZ9oIXC9d3R",
        "outputId": "748a41fe-d835-45f6-8e88-6ad397196b8a"
      },
      "outputs": [
        {
          "output_type": "execute_result",
          "data": {
            "text/plain": [
              "tensor([[-0.9986,  0.7346, -0.9991,  ..., -0.8751, -1.0000, -1.0000],\n",
              "        [-0.6687,  0.8889, -0.9998,  ...,  0.2028, -1.0000, -0.9997],\n",
              "        [-0.8850,  0.2710, -0.9931,  ...,  0.9155, -0.9650, -0.6140],\n",
              "        ...,\n",
              "        [ 0.7732,  0.9881,  0.9322,  ...,  0.9538,  0.9999, -0.2047],\n",
              "        [ 0.9972,  0.9494,  0.9605,  ...,  0.9702,  0.9996,  0.3215],\n",
              "        [-0.9999, -0.3118, -0.6585,  ..., -0.1879, -0.9352, -0.7521]])"
            ]
          },
          "metadata": {},
          "execution_count": 12
        }
      ],
      "source": [
        "h"
      ]
    },
    {
      "cell_type": "code",
      "execution_count": null,
      "metadata": {
        "colab": {
          "base_uri": "https://localhost:8080/"
        },
        "id": "OA2UgkIY9d3R",
        "outputId": "b55eca72-005d-410a-82b2-93e468aa471e"
      },
      "outputs": [
        {
          "output_type": "execute_result",
          "data": {
            "text/plain": [
              "torch.Size([228146, 100])"
            ]
          },
          "metadata": {},
          "execution_count": 13
        }
      ],
      "source": [
        "h.shape"
      ]
    },
    {
      "cell_type": "code",
      "execution_count": null,
      "metadata": {
        "id": "_sxFRZLA9d3R"
      },
      "outputs": [],
      "source": [
        "W2 = torch.randn((100, 27))\n",
        "b2 = torch.randn(27)"
      ]
    },
    {
      "cell_type": "code",
      "execution_count": null,
      "metadata": {
        "id": "qa7PnVtF9d3S"
      },
      "outputs": [],
      "source": [
        "logits = h @ W2 + b2"
      ]
    },
    {
      "cell_type": "code",
      "execution_count": null,
      "metadata": {
        "colab": {
          "base_uri": "https://localhost:8080/"
        },
        "id": "OzuOSllK9d3S",
        "outputId": "078736b5-f59a-4276-9917-372eb6f8e57d"
      },
      "outputs": [
        {
          "output_type": "execute_result",
          "data": {
            "text/plain": [
              "torch.Size([228146, 27])"
            ]
          },
          "metadata": {},
          "execution_count": 16
        }
      ],
      "source": [
        "logits.shape"
      ]
    },
    {
      "cell_type": "code",
      "execution_count": null,
      "metadata": {
        "id": "4AToQmPV9d3S"
      },
      "outputs": [],
      "source": [
        "counts = logits.exp()"
      ]
    },
    {
      "cell_type": "code",
      "execution_count": null,
      "metadata": {
        "id": "Qbazo6x69d3S"
      },
      "outputs": [],
      "source": [
        "prob = counts / counts.sum(1, keepdims=True)"
      ]
    },
    {
      "cell_type": "code",
      "execution_count": null,
      "metadata": {
        "colab": {
          "base_uri": "https://localhost:8080/"
        },
        "id": "NGkMQ0mM9d3S",
        "outputId": "07837d36-3744-4d2f-ad09-66fe08423de7"
      },
      "outputs": [
        {
          "output_type": "execute_result",
          "data": {
            "text/plain": [
              "torch.Size([228146, 27])"
            ]
          },
          "metadata": {},
          "execution_count": 19
        }
      ],
      "source": [
        "prob.shape"
      ]
    },
    {
      "cell_type": "code",
      "execution_count": null,
      "metadata": {
        "id": "mIZcgIIh9d3S"
      },
      "outputs": [],
      "source": [
        "# loss = -prob[torch.arange(32), Y].log().mean()\n",
        "# loss"
      ]
    },
    {
      "cell_type": "code",
      "execution_count": null,
      "metadata": {
        "id": "SI2NN5AA9d3S"
      },
      "outputs": [],
      "source": [
        "# ------------ now made respectable :) ---------------"
      ]
    },
    {
      "cell_type": "code",
      "execution_count": null,
      "metadata": {
        "colab": {
          "base_uri": "https://localhost:8080/"
        },
        "id": "K0aevCtx9d3S",
        "outputId": "779547da-05ab-4fae-a965-330165da4e13"
      },
      "outputs": [
        {
          "output_type": "execute_result",
          "data": {
            "text/plain": [
              "(torch.Size([182625, 3]), torch.Size([182625]))"
            ]
          },
          "metadata": {},
          "execution_count": 23
        }
      ],
      "source": [
        "Xtr.shape, Ytr.shape # dataset"
      ]
    },
    {
      "cell_type": "code",
      "execution_count": null,
      "metadata": {
        "id": "GI4NoStK9d3S"
      },
      "outputs": [],
      "source": [
        "# g = torch.Generator().manual_seed(2147483647) # for reproducibility  this was for assignment 1\n",
        "# C = torch.randn((27, 15), generator=g)\n",
        "# W1 = torch.randn((60, 300), generator=g)\n",
        "# b1 = torch.randn(300, generator=g)\n",
        "# W2 = torch.randn((300, 27), generator=g)\n",
        "# b2 = torch.randn(27, generator=g)\n",
        "# parameters = [C, W1, b1, W2, b2]"
      ]
    },
    {
      "cell_type": "code",
      "source": [
        "# for assignment 2\n",
        "\n",
        "C = torch.zeros((27, 15))\n",
        "W1 = torch.zeros((60, 300))\n",
        "b1 = torch.zeros(300)\n",
        "W2 = torch.zeros((300, 27))\n",
        "b2 = torch.zeros(27)\n",
        "parameters = [C, W1, b1, W2, b2]"
      ],
      "metadata": {
        "id": "uYoAg6kpOX2K"
      },
      "execution_count": null,
      "outputs": []
    },
    {
      "cell_type": "code",
      "execution_count": null,
      "metadata": {
        "colab": {
          "base_uri": "https://localhost:8080/"
        },
        "id": "f1tQSs219d3T",
        "outputId": "6b593595-1e8d-42cc-a48e-c7f64bfb972f"
      },
      "outputs": [
        {
          "output_type": "execute_result",
          "data": {
            "text/plain": [
              "26832"
            ]
          },
          "metadata": {},
          "execution_count": 66
        }
      ],
      "source": [
        "sum(p.nelement() for p in parameters) # number of parameters in total"
      ]
    },
    {
      "cell_type": "code",
      "source": [
        "# Xtr1 = [[1,1,1,1]]\n",
        "emb = C[Xtr]\n",
        "h = torch.tanh(emb.view(-1, 60) @ W1 + b1)\n",
        "logits = h @ W2 + b2\n",
        "loss = F.cross_entropy(logits, Ytr)\n",
        "loss\n"
      ],
      "metadata": {
        "colab": {
          "base_uri": "https://localhost:8080/"
        },
        "id": "JdRNL3YRPl44",
        "outputId": "b85b17cb-0f27-4582-eb71-64f8d5ea86fc"
      },
      "execution_count": null,
      "outputs": [
        {
          "output_type": "execute_result",
          "data": {
            "text/plain": [
              "tensor(3.2958)"
            ]
          },
          "metadata": {},
          "execution_count": 69
        }
      ]
    },
    {
      "cell_type": "code",
      "execution_count": null,
      "metadata": {
        "id": "bqWcePgv9d3T"
      },
      "outputs": [],
      "source": [
        "for p in parameters:\n",
        "  p.requires_grad = True"
      ]
    },
    {
      "cell_type": "code",
      "execution_count": null,
      "metadata": {
        "id": "r7ubw66Z9d3T"
      },
      "outputs": [],
      "source": [
        "lre = torch.linspace(-3, 0, 1000)\n",
        "lrs = 10**lre"
      ]
    },
    {
      "cell_type": "code",
      "execution_count": null,
      "metadata": {
        "id": "fPk-6Cas9d3T"
      },
      "outputs": [],
      "source": [
        "lri = []\n",
        "lossi = []\n",
        "stepi = []"
      ]
    },
    {
      "cell_type": "code",
      "execution_count": null,
      "metadata": {
        "id": "g-tcs7_g9d3T"
      },
      "outputs": [],
      "source": [
        "for i in range(200000):\n",
        "\n",
        "  # minibatch construct\n",
        "  ix = torch.randint(0, Xtr.shape[0], (64,))\n",
        "\n",
        "  # forward pass\n",
        "  emb = C[Xtr[ix]] # (32, 3, 10)\n",
        "  h = torch.tanh(emb.view(-1, 60) @ W1 + b1) # (32, 200)\n",
        "  logits = h @ W2 + b2 # (32, 27)\n",
        "  loss = F.cross_entropy(logits, Ytr[ix])\n",
        "  #print(loss.item())\n",
        "\n",
        "  # backward pass\n",
        "  for p in parameters:\n",
        "    p.grad = None\n",
        "  loss.backward()\n",
        "\n",
        "  # update\n",
        "  #lr = lrs[i]\n",
        "  lr = 0.03 if i < 100000 else 0.01\n",
        "  for p in parameters:\n",
        "    p.data += -lr * p.grad\n",
        "\n",
        "  # track stats\n",
        "  #lri.append(lre[i])\n",
        "  stepi.append(i)\n",
        "  lossi.append(loss.log10().item())\n",
        "\n",
        "#print(loss.item())"
      ]
    },
    {
      "cell_type": "code",
      "execution_count": null,
      "metadata": {
        "colab": {
          "base_uri": "https://localhost:8080/",
          "height": 447
        },
        "id": "BnzxHgjB9d3T",
        "outputId": "7ddd51a6-df9a-4676-9cf6-a64c05b263c5"
      },
      "outputs": [
        {
          "output_type": "execute_result",
          "data": {
            "text/plain": [
              "[<matplotlib.lines.Line2D at 0x7fbd26660f70>]"
            ]
          },
          "metadata": {},
          "execution_count": 30
        },
        {
          "output_type": "display_data",
          "data": {
            "text/plain": [
              "<Figure size 640x480 with 1 Axes>"
            ],
            "image/png": "[encoded data removed]"
          },
          "metadata": {}
        }
      ],
      "source": [
        "plt.plot(stepi, lossi)"
      ]
    },
    {
      "cell_type": "code",
      "execution_count": null,
      "metadata": {
        "colab": {
          "base_uri": "https://localhost:8080/"
        },
        "id": "JcK0Lhj29d3T",
        "outputId": "680979fb-b924-477b-ed07-531d8c3d8d06"
      },
      "outputs": [
        {
          "output_type": "execute_result",
          "data": {
            "text/plain": [
              "tensor(33.9979)"
            ]
          },
          "metadata": {},
          "execution_count": 56
        }
      ],
      "source": [
        "emb = C[Xtr] # (32, 3, 2)\n",
        "h = torch.tanh(emb.view(-1, 60) @ W1 + b1) # (32, 100)\n",
        "logits = h @ W2 + b2 # (32, 27)\n",
        "loss = F.cross_entropy(logits, Ytr)\n",
        "loss"
      ]
    },
    {
      "cell_type": "code",
      "execution_count": null,
      "metadata": {
        "colab": {
          "base_uri": "https://localhost:8080/"
        },
        "id": "YpPnNB0y9d3U",
        "outputId": "2cc12ce4-edb5-48ce-86ed-f9fbed8e88bf"
      },
      "outputs": [
        {
          "output_type": "execute_result",
          "data": {
            "text/plain": [
              "tensor(34.0447)"
            ]
          },
          "metadata": {},
          "execution_count": 57
        }
      ],
      "source": [
        "emb = C[Xdev] # (32, 3, 2)\n",
        "h = torch.tanh(emb.view(-1, 60) @ W1 + b1) # (32, 100)\n",
        "logits = h @ W2 + b2 # (32, 27)\n",
        "loss = F.cross_entropy(logits, Ydev)\n",
        "loss"
      ]
    },
    {
      "cell_type": "code",
      "source": [
        "# i got dev-loss of 2.1635  train loss = 2.0786in first go. let's try to improve it even more.\n",
        "# let's train again and see. I except to platue at this range. I suspect dev_loss will be more even\n",
        "# ok it didn't it decrease to 2.1371. train loss = 2.0734 ok learning rate of 0.1 is ok i think, let's train again with 0.1 learning rate only\n",
        "\n",
        "# again after 200k iterations on same hyper-parameters\n",
        "  #  train loss = 2.0560\n",
        "  #  dev loss = 2.1227\n",
        "\n",
        "#ok  again it is decreased but it seems it has platued around here so let's change the hyperparameters\n",
        "\n",
        "#first try, let's change block size form 3 to 4. why?\n",
        "# ->  i don't know, it seems for names the average length of syllable is 4.\n",
        "\n",
        "\n",
        "#what i changed\n",
        "# 1. embedding vector size = 30. why? (do we need 30 dimensions to store the information for certain char?) - i don't think so. let's make it just 15\n",
        "#    i think 15 is also too big. let's see\n",
        "\n",
        "# 2. I think hidden layers needs to be of more size. so let's make it 300. why?\n",
        "#    -->\n",
        "\n",
        "# 3. block size = 4\n",
        "# 4. do we need regularization? let's add it too.\n",
        "# 5. let's increase batch size to 64\n",
        "\n",
        "\n",
        "# ok better than previous but not good as expected\n",
        "\n",
        "# dev loss = 2.1598\n",
        "# train loss = 2.1004\n",
        "\n",
        "# let's train more and see.let's use smaller learning rate now.\n",
        "\n",
        "#dev loss = 2.14\n",
        "#train loss = 2.0647\n",
        "\n",
        "#again\n",
        "\n",
        "#dev loss = 33\n",
        "#train loss = 33\n",
        "\n",
        "#ok i clearly messed up. i don't know why\n",
        "\n",
        "# ok this was my best\n",
        "\n",
        "#dev loss = 2.14\n",
        "#train loss = 2.0647\n"
      ],
      "metadata": {
        "id": "ab-yS6uJCNls"
      },
      "execution_count": null,
      "outputs": []
    },
    {
      "cell_type": "code",
      "source": [
        "## assignment -2 ###\n",
        "# ok loss is 3.21 with equal distribution.\n"
      ],
      "metadata": {
        "id": "fwWgOM5LPn0n"
      },
      "execution_count": null,
      "outputs": []
    },
    {
      "cell_type": "code",
      "execution_count": null,
      "metadata": {
        "id": "RcuZh2Um9d3U",
        "outputId": "ac92bd16-9d3c-42ec-fd61-edce1b4ced80"
      },
      "outputs": [
        {
          "data": {
            "image/png": "[encoded data removed]",
            "text/plain": [
              "<Figure size 576x576 with 1 Axes>"
            ]
          },
          "metadata": {
            "needs_background": "light"
          },
          "output_type": "display_data"
        }
      ],
      "source": [
        "# visualize dimensions 0 and 1 of the embedding matrix C for all characters\n",
        "plt.figure(figsize=(8,8))\n",
        "plt.scatter(C[:,0].data, C[:,1].data, s=200)\n",
        "for i in range(C.shape[0]):\n",
        "    plt.text(C[i,0].item(), C[i,1].item(), itos[i], ha=\"center\", va=\"center\", color='white')\n",
        "plt.grid('minor')"
      ]
    },
    {
      "cell_type": "code",
      "execution_count": null,
      "metadata": {
        "id": "n9s-mtK39d3U"
      },
      "outputs": [],
      "source": [
        "# training split, dev/validation split, test split\n",
        "# 80%, 10%, 10%"
      ]
    },
    {
      "cell_type": "code",
      "execution_count": null,
      "metadata": {
        "id": "IRK9VRHy9d3U",
        "outputId": "0749c363-cf8f-423a-cab6-a236f1c3dd5a"
      },
      "outputs": [
        {
          "data": {
            "text/plain": [
              "torch.Size([1, 3, 10])"
            ]
          },
          "execution_count": 805,
          "metadata": {},
          "output_type": "execute_result"
        }
      ],
      "source": [
        "context = [0] * block_size\n",
        "C[torch.tensor([context])].shape"
      ]
    },
    {
      "cell_type": "code",
      "execution_count": null,
      "metadata": {
        "id": "KkAnGlil9d3U",
        "outputId": "1a56fb85-d294-4f10-b76e-f3065b320a09"
      },
      "outputs": [
        {
          "name": "stdout",
          "output_type": "stream",
          "text": [
            "carmahela.\n",
            "jhovi.\n",
            "kimrin.\n",
            "thil.\n",
            "halanna.\n",
            "jazhien.\n",
            "amerynci.\n",
            "aqui.\n",
            "nellara.\n",
            "chaiiv.\n",
            "kaleigh.\n",
            "ham.\n",
            "joce.\n",
            "quinton.\n",
            "lilea.\n",
            "jamilio.\n",
            "jeron.\n",
            "jaryni.\n",
            "jace.\n",
            "chrudeley.\n"
          ]
        }
      ],
      "source": [
        "\n",
        "\n",
        "# sample from the model\n",
        "g = torch.Generator().manual_seed(2147483647 + 10)\n",
        "\n",
        "for _ in range(20):\n",
        "\n",
        "    out = []\n",
        "    context = [0] * block_size # initialize with all ...\n",
        "    while True:\n",
        "      emb = C[torch.tensor([context])] # (1,block_size,d)\n",
        "      h = torch.tanh(emb.view(1, -1) @ W1 + b1)\n",
        "      logits = h @ W2 + b2\n",
        "      probs = F.softmax(logits, dim=1)\n",
        "      ix = torch.multinomial(probs, num_samples=1, generator=g).item()\n",
        "      context = context[1:] + [ix]\n",
        "      out.append(ix)\n",
        "      if ix == 0:\n",
        "        break\n",
        "\n",
        "    print(''.join(itos[i] for i in out))"
      ]
    },
    {
      "cell_type": "code",
      "execution_count": null,
      "metadata": {
        "id": "lrv7T-jh9d3V"
      },
      "outputs": [],
      "source": []
    }
  ],
  "metadata": {
    "kernelspec": {
      "display_name": "Python 3",
      "language": "python",
      "name": "python3"
    },
    "language_info": {
      "codemirror_mode": {
        "name": "ipython",
        "version": 3
      },
      "file_extension": ".py",
      "mimetype": "text/x-python",
      "name": "python",
      "nbconvert_exporter": "python",
      "pygments_lexer": "ipython3",
      "version": "3.8.5"
    },
    "colab": {
      "provenance": []
    }
  },
  "nbformat": 4,
  "nbformat_minor": 0
}