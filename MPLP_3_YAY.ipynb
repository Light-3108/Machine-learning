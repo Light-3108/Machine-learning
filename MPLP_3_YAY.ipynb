{
  "cells": [
    {
      "cell_type": "code",
      "execution_count": null,
      "metadata": {
        "id": "I3vor0sPQx7Y"
      },
      "outputs": [],
      "source": [
        "import torch\n",
        "import torch.nn.functional as F\n",
        "import matplotlib.pyplot as plt # for making figures\n",
        "%matplotlib inline"
      ]
    },
    {
      "cell_type": "code",
      "execution_count": null,
      "metadata": {
        "colab": {
          "base_uri": "https://localhost:8080/"
        },
        "id": "55hXgtspQ4yh",
        "outputId": "543e0e91-e3ab-45b3-c454-b8810d4e4d19"
      },
      "outputs": [
        {
          "output_type": "execute_result",
          "data": {
            "text/plain": [
              "['emma', 'olivia', 'ava', 'isabella', 'sophia', 'charlotte', 'mia', 'amelia']"
            ]
          },
          "metadata": {},
          "execution_count": 3
        }
      ],
      "source": [
        "# read in all the words\n",
        "words = open('names.txt', 'r').read().splitlines()\n",
        "words[:8]"
      ]
    },
    {
      "cell_type": "code",
      "execution_count": null,
      "metadata": {
        "colab": {
          "base_uri": "https://localhost:8080/"
        },
        "id": "hERTcb1_RCCL",
        "outputId": "799787db-7223-40c2-995a-f94384060bcf"
      },
      "outputs": [
        {
          "output_type": "stream",
          "name": "stdout",
          "text": [
            "{1: 'a', 2: 'b', 3: 'c', 4: 'd', 5: 'e', 6: 'f', 7: 'g', 8: 'h', 9: 'i', 10: 'j', 11: 'k', 12: 'l', 13: 'm', 14: 'n', 15: 'o', 16: 'p', 17: 'q', 18: 'r', 19: 's', 20: 't', 21: 'u', 22: 'v', 23: 'w', 24: 'x', 25: 'y', 26: 'z', 0: '.'}\n",
            "27\n"
          ]
        }
      ],
      "source": [
        "chars = sorted(list(set(''.join(words))))\n",
        "stoi = {s:i+1 for i,s in enumerate(chars)}\n",
        "stoi['.'] = 0\n",
        "itos = {i:s for s,i in stoi.items()}\n",
        "vocab_size = len(itos)\n",
        "print(itos)\n",
        "print(vocab_size)"
      ]
    },
    {
      "cell_type": "code",
      "execution_count": null,
      "metadata": {
        "colab": {
          "base_uri": "https://localhost:8080/"
        },
        "id": "9dN_dTdwREF3",
        "outputId": "2e435692-1a20-474f-c91b-f09b91a0d1e6"
      },
      "outputs": [
        {
          "output_type": "stream",
          "name": "stdout",
          "text": [
            "torch.Size([182625, 3]) torch.Size([182625])\n",
            "torch.Size([22655, 3]) torch.Size([22655])\n",
            "torch.Size([22866, 3]) torch.Size([22866])\n"
          ]
        }
      ],
      "source": [
        "# build the dataset\n",
        "block_size = 3 # context length: how many characters do we take to predict the next one?\n",
        "\n",
        "def build_dataset(words):\n",
        "  X, Y = [], []\n",
        "\n",
        "  for w in words:\n",
        "    context = [0] * block_size\n",
        "    for ch in w + '.':\n",
        "      ix = stoi[ch]\n",
        "      X.append(context)\n",
        "      Y.append(ix)\n",
        "      context = context[1:] + [ix] # crop and append\n",
        "\n",
        "  X = torch.tensor(X)\n",
        "  Y = torch.tensor(Y)\n",
        "  print(X.shape, Y.shape)\n",
        "  return X, Y\n",
        "\n",
        "import random\n",
        "random.seed(42)\n",
        "random.shuffle(words)\n",
        "n1 = int(0.8*len(words))\n",
        "n2 = int(0.9*len(words))\n",
        "\n",
        "Xtr,  Ytr  = build_dataset(words[:n1])     # 80%\n",
        "Xdev, Ydev = build_dataset(words[n1:n2])   # 10%\n",
        "Xte,  Yte  = build_dataset(words[n2:])     # 10%"
      ]
    },
    {
      "cell_type": "code",
      "execution_count": null,
      "metadata": {
        "colab": {
          "base_uri": "https://localhost:8080/"
        },
        "id": "HJBu9WQNRKgI",
        "outputId": "f6d6b098-1a1a-4f31-d477-76c8e1da161a"
      },
      "outputs": [
        {
          "output_type": "stream",
          "name": "stdout",
          "text": [
            "12097\n"
          ]
        }
      ],
      "source": [
        "# MLP revisited\n",
        "n_embd = 10 # the dimensionality of the character embedding vectors\n",
        "n_hidden = 200 # the number of neurons in the hidden layer of the MLP\n",
        "\n",
        "g = torch.Generator().manual_seed(2147483647) # for reproducibility\n",
        "C  = torch.randn((vocab_size, n_embd),            generator=g)\n",
        "W1 = torch.randn((n_embd * block_size, n_hidden), generator=g) * (5/3)/((n_embd * block_size)**0.5) #* 0.2\n",
        "#b1 = torch.randn(n_hidden,                        generator=g) * 0.01\n",
        "W2 = torch.randn((n_hidden, vocab_size),          generator=g) * 0.01\n",
        "b2 = torch.randn(vocab_size,                      generator=g) * 0\n",
        "\n",
        "# BatchNorm parameters\n",
        "bngain = torch.ones((1, n_hidden))\n",
        "bnbias = torch.zeros((1, n_hidden))\n",
        "bnmean_running = torch.zeros((1, n_hidden))\n",
        "bnstd_running = torch.ones((1, n_hidden))\n",
        "\n",
        "parameters = [C, W1, W2, b2, bngain, bnbias]\n",
        "print(sum(p.nelement() for p in parameters)) # number of parameters in total\n",
        "for p in parameters:\n",
        "  p.requires_grad = True"
      ]
    },
    {
      "cell_type": "code",
      "source": [
        "#aba ata kaiming init launu paryo forward pass normalize garna lai so\n",
        "#we are using tanh so\n",
        "(5/3) / (30**0.5)     #input size 30 hunxa ni ta 10 + 10 + 10\n",
        "#= 0.304. vanesi yesle multiply garnu paryo w1 lai\n",
        "\n",
        "\n",
        "# ***sike*****\n",
        "# Actually this kaiming init for  normalization is not important due to modern invotation\n",
        "# easy kei hola, teso vaye\n",
        "\n",
        "# what is that then?"
      ],
      "metadata": {
        "colab": {
          "base_uri": "https://localhost:8080/"
        },
        "id": "64XZwDPTbjO2",
        "outputId": "749d99d0-dd30-42ef-9228-7c196569040f"
      },
      "execution_count": null,
      "outputs": [
        {
          "output_type": "execute_result",
          "data": {
            "text/plain": [
              "0.3042903097250923"
            ]
          },
          "metadata": {},
          "execution_count": 7
        }
      ]
    },
    {
      "cell_type": "code",
      "source": [
        "#batch normalization comes into play\n",
        "#google research\n",
        "#idea: if you want your layer to be gussian, then just normalize the layer to make it gussian. simple as that, hehe\n",
        "#vanesi hamle hpreact lai normalize garnu paryo hoina? yes.\n",
        "# just do this.\n",
        "# 1. paile hpreat ko mean nikalne row bata. i.e 1 * 200 hune vayo.\n",
        "# 2. mathi ko jasari nai standard deviation nikalne row bata nai 1*200 nai vayo.\n",
        "# 3. now change hpreact to hpreact = (hpreact - hpreact.mean(0, keepdim=True)) / hpreact.std(0, keepdim=true)  normalize vayo\n",
        "\n",
        "# yo garepaxi k vayo ta?\n",
        "# aba hamro tyo batch i.e 32 examples ko sabai 200 neurons ko s.d 1 ko najik hunxa. which is good for network to learn\n",
        "# so it is called batch normalization. nice\n",
        "\n",
        "# mathi ko normalization is perfectly differentiable hence backpropagate garna sakne ni vayo ni ta easily. hehe\n",
        "\n",
        "\n",
        "\n",
        "# -- observations hamle mathi ko normalization ta herek iteration ma garko xa ni ta. meaning we are forcing model to make it's activation gussian\n",
        "# yesto garda chain khasai ramro learn garena xa.\n",
        "# k garnu paryo vanda kheri. initialization ma matra normalization garnu paryo.   My idea:  epoch epoch or testai time interval ma normalization garda kasto hola ra?\n",
        "\n",
        "\n",
        "# vanesi shifting and adding bias comes into play\n",
        "# introduce bngain as torch.ones((1,n_hidden))\n",
        "# introdue bnbias as torch.zeros((1,n_hidden))\n",
        "\n",
        "# now change hpreact to hpreact = bngain * (hpreact - hpreact.mean(0, keepdim=True)) / hpreact.std(0, keepdim=true) + bnbias\n",
        "# yeti garsi ta first ma unit gussian nai hunxa initialization ma ta\n",
        "# ani hamle yo formula ta forward pass ma nai rekhxum ni ta so aba model is free to use this to decrease the loss.\n",
        "\n",
        "# Q. ok first ma ta unit gussian lai gareko ho. aba training hudai garda chai yo change le kasari help garyo hamlai, yo chai exactly bujina maile.\n",
        "# Q. herek choti normalize ta hunxa tara network le gain ra shift ni garna payo hoina?\n",
        "# Q. I still think this is some how limiting the network, kinaki normalization ta still gariraxum ni ta hamle.\n",
        "# -> normalization lai counter garna milxa ta bgain ra bbias le, so farak pardaina ra network ko aafno loss decrease garna jasari ni\n",
        "# -> parameters twiks garna sakxa, ata tyo fredom xa. (always normaization hunxa vanne xaina ni ta bgain ra bbias vayeko le)\n",
        "\n",
        "#47:30\n",
        "\n",
        "\n",
        "# ****************************** But there is some problem in this batch-normalization method ****************************\n",
        "\n",
        "# 1. we know hpreact = bngain * (hpreact - hpreact.mean(0, keepdim=True)) / hpreact.std(0, keepdim=true) + bnbias\n",
        "# 2. yo ta forward pass ra backward pass dubai ma aauxa sure\n",
        "# 3. aba euta example ko activation nikanla batch ko sabai example ko use hune vayo ni ta, right? kina ki, hpreact.mean  ra hpreact.std garda ta sabai use hunxa\n",
        "#    ni ta\n",
        "# 4. this is terrifying scientists.\n",
        "# 5. But it turns out yesle khasai hamper garne rainxa, yesle chai regulariser jasari use hune raixa\n",
        "\n",
        "# is there any normalization jasma chai yo problem hudain?\n",
        "\n",
        "\n",
        "# another problem, aba hamle next char kasari predict garne ra?\n",
        "# kina ki ata ta forward pass ma ta hpreact ta use garnai parxa, ani hpreact ma ta .mean() use vako xa jasko lagi batch chainxa.\n",
        "# k garne vanda global mean ra global std deviation use garne\n",
        "\n",
        "# -> (yo different block of code ma ni nikalna milyo, tara running ma ni nikalnu milne raixa, k k garera.)\n",
        "\n",
        "# aba yo ta constant jasto vayo ni ta variable ta vayena ni ta.\n",
        "\n",
        "# Q1. yo global mean ra global standard deviation training phase ma use garna milxa?\n",
        "# Q2. yo use garda kei hamper hunna ra? yeslai sochnu parla ali yar\n",
        "\n"
      ],
      "metadata": {
        "id": "QmWxxVE3pF8f"
      },
      "execution_count": null,
      "outputs": []
    },
    {
      "cell_type": "code",
      "source": [
        "# resnet - yo chai image classification ma kaam aauxa, image input hunxa ra blocks of neural network hunxa, ra output ma chai image classification hunxa\n",
        "# yo bock haru lai chain bottelneck block vanne raixa.\n",
        "# yesko implementation github ma easily pauxa so take a look at it."
      ],
      "metadata": {
        "id": "1jLzq_-D5rln"
      },
      "execution_count": null,
      "outputs": []
    },
    {
      "cell_type": "code",
      "source": [
        "x = torch.randn(1000,10) #1000*10\n",
        "w = torch.randn(10,200) * (1/10**0.5)#10*200\n",
        "\n",
        "print(x.mean(),x.std())   #ok yo random le normal distribution dine raixa ni ta\n",
        "\n",
        "y = x @ w\n",
        "print(y.mean(),y.std())    #ok yesko mean ni zero ma nai aaune raixa, tara standard deviation chai ali 1 vanda thulo hune raixa.\n",
        "\n",
        "plt.figure(figsize=(20,5))\n",
        "plt.subplot(121)\n",
        "plt.hist(x.view(-1).tolist(),50);\n",
        "plt.subplot(122)\n",
        "plt.hist(y.view(-1).tolist(),50);"
      ],
      "metadata": {
        "colab": {
          "base_uri": "https://localhost:8080/",
          "height": 360
        },
        "id": "B5z-7BA9RE-0",
        "outputId": "1f9d18f8-b491-42f2-9e77-9a68a6c68722"
      },
      "execution_count": null,
      "outputs": [
        {
          "output_type": "stream",
          "name": "stdout",
          "text": [
            "tensor(0.0160) tensor(0.9969)\n",
            "tensor(-0.0012) tensor(0.9855)\n"
          ]
        },
        {
          "output_type": "display_data",
          "data": {
            "text/plain": [
              "<Figure size 2000x500 with 2 Axes>"
            ],
            "image/png": "[encoded data removed]"
          },
          "metadata": {}
        }
      ]
    },
    {
      "cell_type": "code",
      "source": [
        "#  ata we can see, y = x @ w # + b.  yesto garepaxi ta s.d increase hune raixa hoina 1 bata ali badi like 3.\n",
        "# andrej le vaneko activation haru ko s.d 1 ko oripari vayko ramro re. why?\n",
        "# hamro y ni ta activation ta ho ni ata. so yeslai k garne?\n",
        "# can we manupulate w to get the result?\n",
        "# -yes w lai ni manupulate garne raixa, tara, w lai jasti 0.1 yesto haru le multiply garda information loss hunna?\n",
        "\n",
        "# hame w lai large number le multiply garda y ko s.d ekdam thulo hune raixa, sano le garda sano hune raixa.\n",
        "\n",
        "# w ma kati le multiply garne? jasle chai s.d takkai 1 layeos?\n",
        "# w lai sqrt of (row) le garda hune raixa.\n",
        "\n",
        "# yo chain activation funtion anusar ni hune raixa. jun chai euta research paper le lekheko xa.\n",
        "# tesma k vaneko xa vanda kheri hamle forward pass ni normalzie garna sakyo backward pass ni normalize garna sakyo.\n",
        "# tara it don't matters actually kina ki forward normalize vayepaxi backward ni normalize hune raixa.\n",
        "\n",
        "# relu xa vane root 2/ root 10 garnu parxa. kina root 2 ? kina ki relu le negative ko ta sabai squacch gardninxa ni ta so * 2 gareko\n",
        "# testai tanh ma chai 5/3 le multiply hune raixa. same reson. squash garxa ni ta. so weights lai boost deko.\n",
        "\n",
        "# we call it gain, gain = 1, root 2 , 5.3 and so on aru ko ni.\n",
        "# yo ramro sanga bujeko xaina\n",
        "# 1. initialzation ma sabai activations hau normalize nai kina huna parne?\n",
        "# 2. forward pass normalize vayepaxi backward pass ni kasari normalize hunxa?\n",
        "# 3. yo gain haru actually nai ati vanera kasari thapa ko?\n",
        "\n",
        "# pytorch ma xa kaiming init vaera yesko lagi"
      ],
      "metadata": {
        "id": "WARpBP9rUDXF"
      },
      "execution_count": null,
      "outputs": []
    },
    {
      "cell_type": "code",
      "execution_count": null,
      "metadata": {
        "colab": {
          "base_uri": "https://localhost:8080/"
        },
        "id": "aUFy-ZpRRk14",
        "outputId": "467c6e25-1374-40b5-d3f6-a8559d8a212c"
      },
      "outputs": [
        {
          "output_type": "stream",
          "name": "stdout",
          "text": [
            "      0/ 200000: 3.3239\n",
            "  10000/ 200000: 2.0322\n",
            "  20000/ 200000: 2.5675\n",
            "  30000/ 200000: 2.0125\n",
            "  40000/ 200000: 2.2446\n",
            "  50000/ 200000: 1.8897\n",
            "  60000/ 200000: 2.0785\n",
            "  70000/ 200000: 2.3681\n",
            "  80000/ 200000: 2.2918\n",
            "  90000/ 200000: 2.0238\n",
            " 100000/ 200000: 2.3673\n",
            " 110000/ 200000: 2.3132\n",
            " 120000/ 200000: 1.6414\n",
            " 130000/ 200000: 1.9311\n",
            " 140000/ 200000: 2.2231\n",
            " 150000/ 200000: 2.0027\n",
            " 160000/ 200000: 2.0997\n",
            " 170000/ 200000: 2.4949\n",
            " 180000/ 200000: 2.0199\n",
            " 190000/ 200000: 2.1707\n"
          ]
        }
      ],
      "source": [
        "# same optimization as last time\n",
        "max_steps = 200000\n",
        "batch_size = 32\n",
        "lossi = []\n",
        "\n",
        "for i in range(max_steps):\n",
        "\n",
        "  # minibatch construct\n",
        "  ix = torch.randint(0, Xtr.shape[0], (batch_size,), generator=g)\n",
        "  Xb, Yb = Xtr[ix], Ytr[ix] # batch X,Y\n",
        "\n",
        "  # forward pass\n",
        "  emb = C[Xb] # embed the characters into vectors\n",
        "  embcat = emb.view(emb.shape[0], -1) # concatenate the vectors\n",
        "  # Linear layer\n",
        "  hpreact = embcat @ W1 #+ b1 # hidden layer pre-activation,   batch normalization ma nai bias xa ni ta so we don't use bias here.\n",
        "  # BatchNorm layer\n",
        "  # -------------------------------------------------------------\n",
        "  bnmeani = hpreact.mean(0, keepdim=True)\n",
        "  bnstdi = hpreact.std(0, keepdim=True)\n",
        "  hpreact = bngain * (hpreact - bnmeani) / bnstdi + bnbias\n",
        "  with torch.no_grad():\n",
        "    bnmean_running = 0.999 * bnmean_running + 0.001 * bnmeani\n",
        "    bnstd_running = 0.999 * bnstd_running + 0.001 * bnstdi\n",
        "  # -------------------------------------------------------------\n",
        "  # Non-linearity\n",
        "  h = torch.tanh(hpreact) # hidden layer\n",
        "  logits = h @ W2 + b2 # output layer\n",
        "  loss = F.cross_entropy(logits, Yb) # loss function\n",
        "\n",
        "  # backward pass\n",
        "  for p in parameters:\n",
        "    p.grad = None\n",
        "\n",
        "  loss.backward()\n",
        "\n",
        "  # update\n",
        "  lr = 0.1 if i < 100000 else 0.01 # step learning rate decay\n",
        "  for p in parameters:\n",
        "    p.data += -lr * p.grad\n",
        "\n",
        "  # track stats\n",
        "  if i % 10000 == 0: # print every once in a while\n",
        "    print(f'{i:7d}/{max_steps:7d}: {loss.item():.4f}')\n",
        "  lossi.append(loss.log10().item())\n"
      ]
    },
    {
      "cell_type": "code",
      "source": [
        "#global mean ra sd nikalna (running ma hoina)\n",
        "# calibrate the batch norm at the end of training\n",
        "\n",
        "with torch.no_grad():\n",
        "  # pass the training set through\n",
        "  emb = C[Xtr]\n",
        "  embcat = emb.view(emb.shape[0], -1)\n",
        "  hpreact = embcat @ W1 # + b1\n",
        "  # measure the mean/std over the entire training set\n",
        "  bnmean = hpreact.mean(0, keepdim=True)\n",
        "  bnstd = hpreact.std(0, keepdim=True)"
      ],
      "metadata": {
        "id": "btsJg3l2Ylym"
      },
      "execution_count": null,
      "outputs": []
    },
    {
      "cell_type": "code",
      "execution_count": null,
      "metadata": {
        "colab": {
          "base_uri": "https://localhost:8080/",
          "height": 339
        },
        "id": "OpqOqm_MSJpB",
        "outputId": "b1cf0198-5c00-472f-e020-ee71273915ea"
      },
      "outputs": [
        {
          "output_type": "error",
          "ename": "NameError",
          "evalue": "name 'b1' is not defined",
          "traceback": [
            "\u001b[0;31m---------------------------------------------------------------------------\u001b[0m",
            "\u001b[0;31mNameError\u001b[0m                                 Traceback (most recent call last)",
            "\u001b[0;32m<ipython-input-14-649d6f98d6fc>\u001b[0m in \u001b[0;36m<cell line: 18>\u001b[0;34m()\u001b[0m\n\u001b[1;32m     16\u001b[0m   \u001b[0mprint\u001b[0m\u001b[0;34m(\u001b[0m\u001b[0msplit\u001b[0m\u001b[0;34m,\u001b[0m \u001b[0mloss\u001b[0m\u001b[0;34m.\u001b[0m\u001b[0mitem\u001b[0m\u001b[0;34m(\u001b[0m\u001b[0;34m)\u001b[0m\u001b[0;34m)\u001b[0m\u001b[0;34m\u001b[0m\u001b[0;34m\u001b[0m\u001b[0m\n\u001b[1;32m     17\u001b[0m \u001b[0;34m\u001b[0m\u001b[0m\n\u001b[0;32m---> 18\u001b[0;31m \u001b[0msplit_loss\u001b[0m\u001b[0;34m(\u001b[0m\u001b[0;34m'train'\u001b[0m\u001b[0;34m)\u001b[0m\u001b[0;34m\u001b[0m\u001b[0;34m\u001b[0m\u001b[0m\n\u001b[0m\u001b[1;32m     19\u001b[0m \u001b[0msplit_loss\u001b[0m\u001b[0;34m(\u001b[0m\u001b[0;34m'val'\u001b[0m\u001b[0;34m)\u001b[0m\u001b[0;34m\u001b[0m\u001b[0;34m\u001b[0m\u001b[0m\n",
            "\u001b[0;32m/usr/local/lib/python3.10/dist-packages/torch/utils/_contextlib.py\u001b[0m in \u001b[0;36mdecorate_context\u001b[0;34m(*args, **kwargs)\u001b[0m\n\u001b[1;32m    114\u001b[0m     \u001b[0;32mdef\u001b[0m \u001b[0mdecorate_context\u001b[0m\u001b[0;34m(\u001b[0m\u001b[0;34m*\u001b[0m\u001b[0margs\u001b[0m\u001b[0;34m,\u001b[0m \u001b[0;34m**\u001b[0m\u001b[0mkwargs\u001b[0m\u001b[0;34m)\u001b[0m\u001b[0;34m:\u001b[0m\u001b[0;34m\u001b[0m\u001b[0;34m\u001b[0m\u001b[0m\n\u001b[1;32m    115\u001b[0m         \u001b[0;32mwith\u001b[0m \u001b[0mctx_factory\u001b[0m\u001b[0;34m(\u001b[0m\u001b[0;34m)\u001b[0m\u001b[0;34m:\u001b[0m\u001b[0;34m\u001b[0m\u001b[0;34m\u001b[0m\u001b[0m\n\u001b[0;32m--> 116\u001b[0;31m             \u001b[0;32mreturn\u001b[0m \u001b[0mfunc\u001b[0m\u001b[0;34m(\u001b[0m\u001b[0;34m*\u001b[0m\u001b[0margs\u001b[0m\u001b[0;34m,\u001b[0m \u001b[0;34m**\u001b[0m\u001b[0mkwargs\u001b[0m\u001b[0;34m)\u001b[0m\u001b[0;34m\u001b[0m\u001b[0;34m\u001b[0m\u001b[0m\n\u001b[0m\u001b[1;32m    117\u001b[0m \u001b[0;34m\u001b[0m\u001b[0m\n\u001b[1;32m    118\u001b[0m     \u001b[0;32mreturn\u001b[0m \u001b[0mdecorate_context\u001b[0m\u001b[0;34m\u001b[0m\u001b[0;34m\u001b[0m\u001b[0m\n",
            "\u001b[0;32m<ipython-input-14-649d6f98d6fc>\u001b[0m in \u001b[0;36msplit_loss\u001b[0;34m(split)\u001b[0m\n\u001b[1;32m      8\u001b[0m   \u001b[0memb\u001b[0m \u001b[0;34m=\u001b[0m \u001b[0mC\u001b[0m\u001b[0;34m[\u001b[0m\u001b[0mx\u001b[0m\u001b[0;34m]\u001b[0m \u001b[0;31m# (N, block_size, n_embd)\u001b[0m\u001b[0;34m\u001b[0m\u001b[0;34m\u001b[0m\u001b[0m\n\u001b[1;32m      9\u001b[0m   \u001b[0membcat\u001b[0m \u001b[0;34m=\u001b[0m \u001b[0memb\u001b[0m\u001b[0;34m.\u001b[0m\u001b[0mview\u001b[0m\u001b[0;34m(\u001b[0m\u001b[0memb\u001b[0m\u001b[0;34m.\u001b[0m\u001b[0mshape\u001b[0m\u001b[0;34m[\u001b[0m\u001b[0;36m0\u001b[0m\u001b[0;34m]\u001b[0m\u001b[0;34m,\u001b[0m \u001b[0;34m-\u001b[0m\u001b[0;36m1\u001b[0m\u001b[0;34m)\u001b[0m \u001b[0;31m# concat into (N, block_size * n_embd)\u001b[0m\u001b[0;34m\u001b[0m\u001b[0;34m\u001b[0m\u001b[0m\n\u001b[0;32m---> 10\u001b[0;31m   \u001b[0mhpreact\u001b[0m \u001b[0;34m=\u001b[0m \u001b[0membcat\u001b[0m \u001b[0;34m@\u001b[0m \u001b[0mW1\u001b[0m \u001b[0;34m+\u001b[0m \u001b[0mb1\u001b[0m\u001b[0;34m\u001b[0m\u001b[0;34m\u001b[0m\u001b[0m\n\u001b[0m\u001b[1;32m     11\u001b[0m   \u001b[0;31m# hpreact = bngain * (hpreact - hpreact.mean(0, keepdim=True)) / hpreact.std(0, keepdim=True) + bnbias\u001b[0m\u001b[0;34m\u001b[0m\u001b[0;34m\u001b[0m\u001b[0m\n\u001b[1;32m     12\u001b[0m   \u001b[0mhpreact\u001b[0m \u001b[0;34m=\u001b[0m \u001b[0mbngain\u001b[0m \u001b[0;34m*\u001b[0m \u001b[0;34m(\u001b[0m\u001b[0mhpreact\u001b[0m \u001b[0;34m-\u001b[0m \u001b[0mbnmean_running\u001b[0m\u001b[0;34m)\u001b[0m \u001b[0;34m/\u001b[0m \u001b[0mbnstd_running\u001b[0m \u001b[0;34m+\u001b[0m \u001b[0mbnbias\u001b[0m\u001b[0;34m\u001b[0m\u001b[0;34m\u001b[0m\u001b[0m\n",
            "\u001b[0;31mNameError\u001b[0m: name 'b1' is not defined"
          ]
        }
      ],
      "source": [
        "@torch.no_grad() # this decorator disables gradient tracking\n",
        "def split_loss(split):\n",
        "  x,y = {\n",
        "    'train': (Xtr, Ytr),\n",
        "    'val': (Xdev, Ydev),\n",
        "    'test': (Xte, Yte),\n",
        "  }[split]\n",
        "  emb = C[x] # (N, block_size, n_embd)\n",
        "  embcat = emb.view(emb.shape[0], -1) # concat into (N, block_size * n_embd)\n",
        "  hpreact = embcat @ W1 + b1\n",
        "  # hpreact = bngain * (hpreact - hpreact.mean(0, keepdim=True)) / hpreact.std(0, keepdim=True) + bnbias\n",
        "  hpreact = bngain * (hpreact - bnmean_running) / bnstd_running + bnbias\n",
        "  h = torch.tanh(hpreact) # (N, n_hidden)\n",
        "  logits = h @ W2 + b2 # (N, vocab_size)\n",
        "  loss = F.cross_entropy(logits, y)\n",
        "  print(split, loss.item())\n",
        "\n",
        "split_loss('train')\n",
        "split_loss('val')"
      ]
    },
    {
      "cell_type": "code",
      "source": [],
      "metadata": {
        "id": "lX2I1QniYNqY"
      },
      "execution_count": null,
      "outputs": []
    },
    {
      "cell_type": "code",
      "execution_count": null,
      "metadata": {
        "id": "CEm2p8LvTZwR"
      },
      "outputs": [],
      "source": [
        "# hamro paile nai initialization ma nai ekdam thulo loss aayo ni ta, aba yeslai k ganre?\n",
        "# b2 lai zero banaune ani w2 lai ni zero ko close ma lane. yeso vayepaxi logits sabai eqauali i.e 1 hunxa ra loss kam aauxa\n",
        "# hamle paile nai yesari initialize garepaxi graph herda testo paile ko jasto first ma nai rapidly decrease hunthyo ni ta ho\n",
        "\n",
        "# tyo chai hudaina. thorai decrease vayejasto hunxa, tara same or better error aauxa paile ko vanda chain.\n",
        "# yesle k bujayo vanda paile parameters harulai zero tira squash garne raixa loss funtion le which is the easy part. tesaile loss ekdam rapidly decrease\n",
        "# vayeko jasto dekhinxa. now aba actually training hunxa ni platue jasto ma aaepaxi.\n",
        "\n",
        "# ok this problem is solved. but we have the problem in h.\n",
        "# 1. what is the problem?\n",
        "# 2. why this is affecting the loss\n",
        "# 3. what is the solution\n",
        "\n",
        "# 13:50\n",
        "\n"
      ]
    },
    {
      "cell_type": "code",
      "execution_count": null,
      "metadata": {
        "colab": {
          "base_uri": "https://localhost:8080/"
        },
        "id": "VIy8TwAVMnDo",
        "outputId": "0e85e610-22f5-44d7-d43b-4917e3b1a63b"
      },
      "outputs": [
        {
          "output_type": "execute_result",
          "data": {
            "text/plain": [
              "torch.Size([32, 200])"
            ]
          },
          "metadata": {},
          "execution_count": 16
        }
      ],
      "source": [
        "h.shape"
      ]
    },
    {
      "cell_type": "code",
      "execution_count": null,
      "metadata": {
        "colab": {
          "base_uri": "https://localhost:8080/",
          "height": 430
        },
        "id": "jbUF5gkaMruo",
        "outputId": "9211d774-7c17-41ca-946a-02af6bd1957b"
      },
      "outputs": [
        {
          "output_type": "display_data",
          "data": {
            "text/plain": [
              "<Figure size 640x480 with 1 Axes>"
            ],
            "image/png": "[encoded data removed]"
          },
          "metadata": {}
        }
      ],
      "source": [
        "plt.hist(h.view(-1).tolist(),50);"
      ]
    },
    {
      "cell_type": "code",
      "execution_count": null,
      "metadata": {
        "id": "liAiFs5cNGGz"
      },
      "outputs": [],
      "source": [
        "#oh here we see most of the values because -1 or +1 when we do tanh. hence i think here we loss many information. because\n",
        "#2 is also converted 1 and 1000 is also coverted to 1. but they shouldn't have same contribution for forward pass off-course.\n",
        "# backward propagation ma (1 - t^2) * out.grad hunxa ni ta. no aba t = 1 vaye ta zero vayo ni ta. so loss ma ni kei contribute garena"
      ]
    },
    {
      "cell_type": "code",
      "execution_count": null,
      "metadata": {
        "id": "oOBzokZON9qa"
      },
      "outputs": [],
      "source": [
        "plt.hist(hpreact.view(-1).tolist(),50);"
      ]
    },
    {
      "cell_type": "code",
      "execution_count": null,
      "metadata": {
        "id": "5loo0MMDN7-Q"
      },
      "outputs": [],
      "source": [
        "#tanh nagardai ta dami xani ta. tara tanh garesi katti information loss vayo hai?"
      ]
    },
    {
      "cell_type": "code",
      "execution_count": null,
      "metadata": {
        "id": "7i5n7xSQOlIV"
      },
      "outputs": [],
      "source": [
        "# now what is the solution? here?\n"
      ]
    },
    {
      "cell_type": "code",
      "execution_count": null,
      "metadata": {
        "id": "DW6J0vyHQq8n"
      },
      "outputs": [],
      "source": [
        "plt.figure(figsize=(20,10))\n",
        "plt.imshow(h.abs() > 0.99, cmap='gray', interpolation='nearest')\n",
        "#true xa vane white aauxa. 32 ota example ma nai herum hai ta kata kata chai > 0.99 aauxa, i.e flat region ma parxa"
      ]
    },
    {
      "cell_type": "code",
      "execution_count": null,
      "metadata": {
        "id": "8-ZGkpZJRJQZ"
      },
      "outputs": [],
      "source": [
        "# #ekdam badi thaun ma >0.99 xa.  vanesi yetro thaun gradient distroyed hunxa.\n",
        "# #same case for other activation functions like sigmoid, tanh, reLU etc.\n",
        "# relu ma yesto pani huna sakxa jastai training garda gardai activation function zero vayo relu le garda, now aba learn ta gardaina yesle\n",
        "# aba sabai training example harule ni teslai active nabaune sakxa. which indicates it is a dead neuron.\n",
        "# But why is this issue? I claim is that is a dead neuron then it is not important to decrease the loss. (I may be wrong, no i am 100% wrong, but don't know why)"
      ]
    },
    {
      "cell_type": "code",
      "execution_count": null,
      "metadata": {
        "id": "gfXJzIwmUPcc"
      },
      "outputs": [],
      "source": [
        "#My solution. let's squash the above figure between -1 and 1.\n",
        "# i.e change hpreact offcourse."
      ]
    },
    {
      "cell_type": "code",
      "execution_count": null,
      "metadata": {
        "id": "Y5FFhyWkUX69"
      },
      "outputs": [],
      "source": [
        "#Andrej le W1 lai 0.1 ma change garyo ani hpreact ta -1 to 1 ko range ma aayo ta how?\n",
        "# paile ta yo sabai graphs haru initialization ko bela ko ho. hamle initialization ma nai ramro garum na ani learn ramro sanga huna sakxa vanne ho\n",
        "# so W1 lai 0.1 garepaxi ta. 200 activation haru -1 to 1 ma nai aauxa because *0.1 gareasi sano hunxa ni ta.\n",
        "# praye chai -1 to 1 ma nai aauxa."
      ]
    },
    {
      "cell_type": "code",
      "execution_count": null,
      "metadata": {
        "id": "pqKyEwu9Y88w"
      },
      "outputs": [],
      "source": [
        "#ok white nai xaina ta. tara thorai ta aauna parne hoina ra?"
      ]
    },
    {
      "cell_type": "code",
      "execution_count": null,
      "metadata": {
        "id": "J6LQ3k1PVz04"
      },
      "outputs": [],
      "source": [
        "# # loss log\n",
        "# # original:\n",
        "# train 2.124\n",
        "# val 2.16\n",
        "\n",
        "# #fix softmax confidently wrong(first ma ta sabai ko probability same hunu parthyo ni ta)\n",
        "# train 2.09\n",
        "# val 2.102\n",
        "\n",
        "# #fix tanh layer too saturated at init:\n",
        "# train 2.0355\n",
        "# val 2.1026"
      ]
    },
    {
      "cell_type": "code",
      "execution_count": null,
      "metadata": {
        "id": "DAjI0sWCbvha"
      },
      "outputs": [],
      "source": [
        "#hamro yo ta ekdam sano neural network ho ni ta, so initialzation ma hamle khasai focus nagare ni learn garyo network le thikai\n",
        "#but this is not the case when the network is super large.\n",
        "#so this is very imp"
      ]
    },
    {
      "cell_type": "code",
      "execution_count": null,
      "metadata": {
        "id": "tAjmtcbocfFe"
      },
      "outputs": [],
      "source": [
        "\n"
      ]
    },
    {
      "cell_type": "code",
      "source": [
        "# ********Summary + pytorchyfying********\n",
        "# batch normalization are not good, so try to avoid them.\n",
        "# group normalization, layer normalization are good.\n",
        "\n",
        "\n"
      ],
      "metadata": {
        "id": "Ls-4SF5bFaZn"
      },
      "execution_count": null,
      "outputs": []
    },
    {
      "cell_type": "code",
      "source": [
        "# Let's train a deeper network\n",
        "# The classes we create here are the same API as nn.Module in PyTorch\n",
        "\n",
        "class Linear:\n",
        "\n",
        "  def __init__(self, fan_in, fan_out, bias=True):\n",
        "    self.weight = torch.randn((fan_in, fan_out), generator=g) / fan_in**0.5     # harek input ko each output ko lagi weights chaiyo ni ta.\n",
        "    self.bias = torch.zeros(fan_out) if bias else None\n",
        "\n",
        "  def __call__(self, x):\n",
        "    self.out = x @ self.weight\n",
        "    if self.bias is not None:\n",
        "      self.out += self.bias\n",
        "    return self.out\n",
        "\n",
        "  def parameters(self):\n",
        "    return [self.weight] + ([] if self.bias is None else [self.bias])\n",
        "\n",
        "\n",
        "class BatchNorm1d:\n",
        "\n",
        "  def __init__(self, dim, eps=1e-5, momentum=0.1):\n",
        "    self.eps = eps\n",
        "    self.momentum = momentum\n",
        "    self.training = True\n",
        "    # parameters (trained with backprop)\n",
        "    self.gamma = torch.ones(dim)\n",
        "    self.beta = torch.zeros(dim)\n",
        "    # buffers (trained with a running 'momentum update')\n",
        "    self.running_mean = torch.zeros(dim)\n",
        "    self.running_var = torch.ones(dim)\n",
        "\n",
        "  def __call__(self, x):\n",
        "    # calculate the forward pass\n",
        "    if self.training:\n",
        "      xmean = x.mean(0, keepdim=True) # batch mean\n",
        "      xvar = x.var(0, keepdim=True) # batch variance\n",
        "    else:\n",
        "      xmean = self.running_mean\n",
        "      xvar = self.running_var\n",
        "    xhat = (x - xmean) / torch.sqrt(xvar + self.eps) # normalize to unit variance\n",
        "    self.out = self.gamma * xhat + self.beta\n",
        "    # update the buffers\n",
        "    if self.training:\n",
        "      with torch.no_grad():\n",
        "        self.running_mean = (1 - self.momentum) * self.running_mean + self.momentum * xmean\n",
        "        self.running_var = (1 - self.momentum) * self.running_var + self.momentum * xvar\n",
        "    return self.out\n",
        "\n",
        "  def parameters(self):\n",
        "    return [self.gamma, self.beta]\n",
        "\n",
        "class Tanh:\n",
        "  def __call__(self, x):\n",
        "    self.out = torch.tanh(x)\n",
        "    return self.out\n",
        "  def parameters(self):\n",
        "    return []\n",
        "\n",
        "n_embd = 10 # the dimensionality of the character embedding vectors\n",
        "n_hidden = 100 # the number of neurons in the hidden layer of the MLP\n",
        "g = torch.Generator().manual_seed(2147483647) # for reproducibility\n",
        "\n",
        "C = torch.randn((vocab_size, n_embd),            generator=g)\n",
        "layers = [\n",
        "  Linear(n_embd * block_size, n_hidden, bias=False), BatchNorm1d(n_hidden), Tanh(),\n",
        "  Linear(           n_hidden, n_hidden, bias=False), BatchNorm1d(n_hidden), Tanh(),\n",
        "  Linear(           n_hidden, n_hidden, bias=False), BatchNorm1d(n_hidden), Tanh(),\n",
        "  Linear(           n_hidden, n_hidden, bias=False), BatchNorm1d(n_hidden), Tanh(),\n",
        "  Linear(           n_hidden, n_hidden, bias=False), BatchNorm1d(n_hidden), Tanh(),\n",
        "  Linear(           n_hidden, vocab_size, bias=False), BatchNorm1d(vocab_size),\n",
        "]\n",
        "# layers = [\n",
        "#   Linear(n_embd * block_size, n_hidden), Tanh(),\n",
        "#   Linear(           n_hidden, n_hidden), Tanh(),\n",
        "#   Linear(           n_hidden, n_hidden), Tanh(),\n",
        "#   Linear(           n_hidden, n_hidden), Tanh(),\n",
        "#   Linear(           n_hidden, n_hidden), Tanh(),\n",
        "#   Linear(           n_hidden, vocab_size),\n",
        "# ]\n",
        "\n",
        "with torch.no_grad():\n",
        "  # last layer: make less confident\n",
        "  layers[-1].gamma *= 0.1\n",
        "  #layers[-1].weight *= 0.1\n",
        "  # all other layers: apply gain\n",
        "  for layer in layers[:-1]:\n",
        "    if isinstance(layer, Linear):\n",
        "      layer.weight *= 1.0 #5/3\n",
        "\n",
        "parameters = [C] + [p for layer in layers for p in layer.parameters()]\n",
        "print(sum(p.nelement() for p in parameters)) # number of parameters in total\n",
        "for p in parameters:\n",
        "  p.requires_grad = True"
      ],
      "metadata": {
        "id": "Nyt58dAIRUiF"
      },
      "execution_count": null,
      "outputs": []
    },
    {
      "cell_type": "code",
      "source": [
        "# Q. yo fan_in ** 0.5 kina gareko re?\n",
        "# -> yo s.d 1 ra mean zero banauna hoina? kamit initialization\n",
        "# self.out += self.bias xa, easy.  bias add gareko ta honi\n",
        "# .paremeters call garda array ma wights ra bias bharera dinxa\n",
        "\n",
        "\n",
        "# batch normalization ma k k xa ta?\n",
        "# easy kunai layer lai batch norm, i.e normalize garera pathauxa. easy\n",
        "\n",
        "# self.out (batch norm ko) ma chain normalize garisakepaxi ko layers ko activation haru raixa hoina? yes\n",
        "\n",
        "# yo return [self.gamma, self.beta]  yo return chain kina gareko? batch norm ko parameters ho yeni haru?\n",
        "\n",
        "\n",
        "# Linear(100,200), yo vanna le k bujne? 100 activations connected vako xa 200 activations ma, different layers ko? yes"
      ],
      "metadata": {
        "id": "aaL6vdDi_Eel"
      },
      "execution_count": null,
      "outputs": []
    },
    {
      "cell_type": "code",
      "source": [
        "# same optimization as last time\n",
        "max_steps = 200000\n",
        "batch_size = 32\n",
        "lossi = []\n",
        "ud = []\n",
        "\n",
        "for i in range(max_steps):\n",
        "\n",
        "  # minibatch construct\n",
        "  ix = torch.randint(0, Xtr.shape[0], (batch_size,), generator=g)\n",
        "  Xb, Yb = Xtr[ix], Ytr[ix] # batch X,Y\n",
        "\n",
        "  # forward pass\n",
        "  emb = C[Xb] # embed the characters into vectors\n",
        "  x = emb.view(emb.shape[0], -1) # concatenate the vectors\n",
        "  for layer in layers:\n",
        "    x = layer(x)\n",
        "  loss = F.cross_entropy(x, Yb) # loss function\n",
        "\n",
        "  # backward pass\n",
        "  for layer in layers:\n",
        "    layer.out.retain_grad() # AFTER_DEBUG: would take out retain_graph\n",
        "  for p in parameters:\n",
        "    p.grad = None\n",
        "  loss.backward()\n",
        "\n",
        "  # update\n",
        "  lr = 0.1 if i < 150000 else 0.01 # step learning rate decay\n",
        "  for p in parameters:\n",
        "    p.data += -lr * p.grad\n",
        "\n",
        "  # track stats\n",
        "  if i % 10000 == 0: # print every once in a while\n",
        "    print(f'{i:7d}/{max_steps:7d}: {loss.item():.4f}')\n",
        "  lossi.append(loss.log10().item())\n",
        "  with torch.no_grad():\n",
        "    ud.append([((lr*p.grad).std() / p.data.std()).log10().item() for p in parameters])\n",
        "\n",
        "  if i >= 1000:\n",
        "    break # AFTER_DEBUG: would take out obviously to run full optimization"
      ],
      "metadata": {
        "id": "35BtGX2RRVyR"
      },
      "execution_count": null,
      "outputs": []
    },
    {
      "cell_type": "code",
      "source": [
        "# visualize histograms\n",
        "plt.figure(figsize=(20, 4)) # width and height of the plot\n",
        "legends = []\n",
        "for i, layer in enumerate(layers[:-1]): # note: exclude the output layer\n",
        "  if isinstance(layer, Tanh):\n",
        "    t = layer.out\n",
        "    print('layer %d (%10s): mean %+.2f, std %.2f, saturated: %.2f%%' % (i, layer.__class__.__name__, t.mean(), t.std(), (t.abs() > 0.97).float().mean()*100))\n",
        "    hy, hx = torch.histogram(t, density=True)\n",
        "    plt.plot(hx[:-1].detach(), hy.detach())\n",
        "    legends.append(f'layer {i} ({layer.__class__.__name__}')\n",
        "plt.legend(legends);\n",
        "plt.title('activation distribution')"
      ],
      "metadata": {
        "id": "4qIsxiFfTOmU"
      },
      "execution_count": null,
      "outputs": []
    },
    {
      "cell_type": "code",
      "source": [
        "# Q. yo -1 to 1 vaneko ta layers ko activation hola hoina,\n",
        "# ani yo y axix ma chain k ho ra? is the specify how many activation are there with specific activations. tara yo ta feri 0.2, 0.4 haru ma xa. tei nai ho.\n",
        "# Q. ani yo upward C jasto graph kina aayo ra? how is this good?\n",
        "# Q. yo saturated vaneko kati chai > 1 or < -1 xa vanera hoina?\n",
        "\n",
        "\n",
        "# hamle mathi sabai layer haru lai gain le multiply gareko xani i.e 5/3 le.\n",
        "# if hamle 1 le multiply gareko vaye, yo mathi ko graph farak aauthyo. upward C vanda ni downward C, jasto hunthyo\n",
        "# i.e sabai activation haru zero ko najik aauthyo\n",
        "# Q. yesto kina hola ra?\n",
        "# -> *1 garesi ta *5/3 gareko vanda saturation kam aaula.\n",
        "# -> originally chai zero ko najik jane tendency hunxa hola, tei vayera hamle (5/3 i.e >1) le multiply gareko.  -- my ans may be wrong\n",
        "\n",
        "# ---->linear layer lai ta hamle tanh garxum ni ta, but tanh le chai zero ko najik squach garne raixa\n",
        "# so hamle every time gain le multiply garnu paryo tyo hatauna  (nice by andrej)\n",
        "\n",
        "\n",
        "\n",
        "# so aba hamle ekdam thulo number le multiply garyo vane like 10. saturation ekdam badxa, offcourse\n"
      ],
      "metadata": {
        "id": "Ded5fUly4MzX"
      },
      "execution_count": null,
      "outputs": []
    },
    {
      "cell_type": "code",
      "source": [
        "# visualize histograms\n",
        "plt.figure(figsize=(20, 4)) # width and height of the plot\n",
        "legends = []\n",
        "for i, layer in enumerate(layers[:-1]): # note: exclude the output layer\n",
        "  if isinstance(layer, Tanh):\n",
        "    t = layer.out.grad\n",
        "    print('layer %d (%10s): mean %+f, std %e' % (i, layer.__class__.__name__, t.mean(), t.std()))\n",
        "    hy, hx = torch.histogram(t, density=True)\n",
        "    plt.plot(hx[:-1].detach(), hy.detach())\n",
        "    legends.append(f'layer {i} ({layer.__class__.__name__}')\n",
        "plt.legend(legends);\n",
        "plt.title('gradient distribution')"
      ],
      "metadata": {
        "id": "TZlonoOmTQcS"
      },
      "execution_count": null,
      "outputs": []
    },
    {
      "cell_type": "code",
      "source": [
        "# Q. what the fuck is this?\n",
        "# yo every layer ko neurons ko gradient ko histogram ho yo. (nice)\n",
        "# lau gradient ko mean kasari zero vayo ra? wtf? ki maile ulto bujeko?\n",
        "\n",
        "# ani gradient zero bako badi xa ta. vanesi kasari learn garne ra? learning slow vayena ra?\n",
        "# ani yo saba layer ko gradient ko graph kasari same aauxa ra?   I am understanding something wrong here"
      ],
      "metadata": {
        "id": "Hk27wBuH-KQP"
      },
      "execution_count": null,
      "outputs": []
    },
    {
      "cell_type": "code",
      "source": [
        "Investing the graphs if there is  no tanh unit on the linear layers"
      ],
      "metadata": {
        "id": "HcRQZYhOAO13"
      },
      "execution_count": null,
      "outputs": []
    },
    {
      "cell_type": "code",
      "source": [
        "# visualize histograms\n",
        "plt.figure(figsize=(20, 4)) # width and height of the plot\n",
        "legends = []\n",
        "for i,p in enumerate(parameters):\n",
        "  t = p.grad\n",
        "  if p.ndim == 2:\n",
        "    print('weight %10s | mean %+f | std %e | grad:data ratio %e' % (tuple(p.shape), t.mean(), t.std(), t.std() / p.std()))\n",
        "    hy, hx = torch.histogram(t, density=True)\n",
        "    plt.plot(hx[:-1].detach(), hy.detach())\n",
        "    legends.append(f'{i} {tuple(p.shape)}')\n",
        "plt.legend(legends)\n",
        "plt.title('weights gradient distribution');"
      ],
      "metadata": {
        "id": "ABEdOTBKTSxa"
      },
      "execution_count": null,
      "outputs": []
    },
    {
      "cell_type": "code",
      "source": [
        "plt.figure(figsize=(20, 4))\n",
        "legends = []\n",
        "for i,p in enumerate(parameters):\n",
        "  if p.ndim == 2:\n",
        "    plt.plot([ud[j][i] for j in range(len(ud))])\n",
        "    legends.append('param %d' % i)\n",
        "plt.plot([0, len(ud)], [-3, -3], 'k') # these ratios should be ~1e-3, indicate on plot\n",
        "plt.legend(legends);"
      ],
      "metadata": {
        "id": "430pCfRzTU-y"
      },
      "execution_count": null,
      "outputs": []
    },
    {
      "cell_type": "code",
      "source": [
        "@torch.no_grad() # this decorator disables gradient tracking\n",
        "def split_loss(split):\n",
        "  x,y = {\n",
        "    'train': (Xtr, Ytr),\n",
        "    'val': (Xdev, Ydev),\n",
        "    'test': (Xte, Yte),\n",
        "  }[split]\n",
        "  emb = C[x] # (N, block_size, n_embd)\n",
        "  x = emb.view(emb.shape[0], -1) # concat into (N, block_size * n_embd)\n",
        "  for layer in layers:\n",
        "    x = layer(x)\n",
        "  loss = F.cross_entropy(x, y)\n",
        "  print(split, loss.item())\n",
        "\n",
        "# put layers into eval mode\n",
        "for layer in layers:\n",
        "  layer.training = False\n",
        "split_loss('train')\n",
        "split_loss('val')"
      ],
      "metadata": {
        "id": "Xp3RyMGETW7L"
      },
      "execution_count": null,
      "outputs": []
    },
    {
      "cell_type": "code",
      "source": [
        "# sample from the model\n",
        "g = torch.Generator().manual_seed(2147483647 + 10)\n",
        "\n",
        "for _ in range(20):\n",
        "\n",
        "    out = []\n",
        "    context = [0] * block_size # initialize with all ...\n",
        "    while True:\n",
        "      # forward pass the neural net\n",
        "      emb = C[torch.tensor([context])] # (1,block_size,n_embd)\n",
        "      x = emb.view(emb.shape[0], -1) # concatenate the vectors\n",
        "      for layer in layers:\n",
        "        x = layer(x)\n",
        "      logits = x\n",
        "      probs = F.softmax(logits, dim=1)\n",
        "      # sample from the distribution\n",
        "      ix = torch.multinomial(probs, num_samples=1, generator=g).item()\n",
        "      # shift the context window and track the samples\n",
        "      context = context[1:] + [ix]\n",
        "      out.append(ix)\n",
        "      # if we sample the special '.' token, break\n",
        "      if ix == 0:\n",
        "        break\n",
        "\n",
        "    print(''.join(itos[i] for i in out)) # decode and print the generated word"
      ],
      "metadata": {
        "id": "Tm5MByuxTZW7"
      },
      "execution_count": null,
      "outputs": []
    },
    {
      "cell_type": "code",
      "source": [
        "print([1,2,3] + [4,5,6])"
      ],
      "metadata": {
        "id": "EjKLpingTcY7"
      },
      "execution_count": null,
      "outputs": []
    },
    {
      "cell_type": "code",
      "source": [],
      "metadata": {
        "id": "Y5X8UK9RGxwS"
      },
      "execution_count": null,
      "outputs": []
    }
  ],
  "metadata": {
    "colab": {
      "provenance": []
    },
    "kernelspec": {
      "display_name": "Python 3",
      "name": "python3"
    },
    "language_info": {
      "name": "python"
    }
  },
  "nbformat": 4,
  "nbformat_minor": 0
}